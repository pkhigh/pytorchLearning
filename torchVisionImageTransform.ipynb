{
 "cells": [
  {
   "cell_type": "code",
   "execution_count": null,
   "metadata": {},
   "outputs": [],
   "source": [
    "import cv2 as cv\n",
    "import numpy as np\n",
    "from PIL import Image as PILImage\n",
    "from torchvision import transforms\n",
    "\n",
    "brightnessVal = (0.7,1.3)\n",
    "contrastVal = (0.7,1.3)\n",
    "saturationVal = (0.7,1.3)\n",
    "hueVal = (-0.2,0.2)\n",
    "transform = transforms.ColorJitter(brightness=brightnessVal,\n",
    "                                   contrast=contrastVal, \n",
    "                                   saturation=saturationVal, \n",
    "                                   hue=hueVal)\n",
    "\n",
    "def addJittereness(image):\n",
    "    image = cv.cvtColor(image, cv.COLOR_BGR2RGB)\n",
    "    image = PILImage.fromarray(image)\n",
    "    image = transform(image)\n",
    "    image = np.asarray(image)\n",
    "    image = cv.cvtColor(image, cv.COLOR_RGB2BGR)\n",
    "    return image"
   ]
  },
  {
   "cell_type": "code",
   "execution_count": null,
   "metadata": {},
   "outputs": [],
   "source": [
    "#transform = transforms.ColorJitter(brightness=brightnessVal)"
   ]
  },
  {
   "cell_type": "raw",
   "metadata": {},
   "source": [
    "import cv2 as cv\n",
    "import numpy as np\n",
    "from PIL import Image\n",
    "import torch\n",
    "import torchvision\n",
    "from torchvision import datasets, transforms\n"
   ]
  },
  {
   "cell_type": "code",
   "execution_count": null,
   "metadata": {},
   "outputs": [],
   "source": [
    "import matplotlib.pyplot as plt\n",
    "from IPython.core.display import Image, display\n",
    "TEMP_IMG = 'GT_temp.jpg'"
   ]
  },
  {
   "cell_type": "raw",
   "metadata": {},
   "source": [
    "val = (0.5,1.0)\n",
    "transform = transforms.ColorJitter(brightness=val, contrast=val, saturation=val, hue=0.5)"
   ]
  },
  {
   "cell_type": "code",
   "execution_count": null,
   "metadata": {},
   "outputs": [],
   "source": [
    "help(transforms.ColorJitter)"
   ]
  },
  {
   "cell_type": "code",
   "execution_count": null,
   "metadata": {},
   "outputs": [],
   "source": [
    "def showBGRImage(image):\n",
    "    b,g,r = cv.split(image)\n",
    "    rgb_img = cv.merge([r,g,b])\n",
    "    plt.imshow(rgb_img)\n",
    "    plt.show()"
   ]
  },
  {
   "cell_type": "code",
   "execution_count": null,
   "metadata": {},
   "outputs": [],
   "source": [
    "\n",
    "imagePath = '/home/roadzen/ParasWork/MobileData/Images/ROADZEN_DATA/amitData/filteredData/augTrain/damage_image_8851_90.jpg'\n",
    "imagePath = '/home/roadzen/ParasWork/screeninsurancelisteners/mainServer/annotated_temporary.jpg'"
   ]
  },
  {
   "cell_type": "code",
   "execution_count": null,
   "metadata": {},
   "outputs": [],
   "source": [
    "image = cv.imread(imagePath)\n",
    "cv.imwrite(TEMP_IMG,image)\n",
    "display(Image(TEMP_IMG, unconfined=False))#,width=1900, ))"
   ]
  },
  {
   "cell_type": "code",
   "execution_count": null,
   "metadata": {},
   "outputs": [],
   "source": [
    "for i in range(5):\n",
    "    image = cv.imread(imagePath)\n",
    "    #showBGRImage(image)\n",
    "    img = addJittereness(image)\n",
    "    cv.imwrite(TEMP_IMG,img)\n",
    "    display(Image(TEMP_IMG, unconfined=False))#,width=1900, ))"
   ]
  },
  {
   "cell_type": "raw",
   "metadata": {},
   "source": [
    "image = cv.imread(imagePath)\n",
    "showBGRImage(image)\n",
    "\n",
    "img = cv.cvtColor(image, cv.COLOR_BGR2RGB)\n",
    "im_pil = Image.fromarray(img)\n",
    "plt.imshow(im_pil)\n",
    "plt.show()"
   ]
  },
  {
   "cell_type": "raw",
   "metadata": {},
   "source": [
    "imgNew = transform(im_pil)\n",
    "plt.imshow(imgNew)\n",
    "plt.show()\n",
    "\n",
    "im_np = np.asarray(imgNew)\n",
    "im_np = cv.cvtColor(im_np, cv.COLOR_RGB2BGR)\n",
    "showBGRImage(im_np)"
   ]
  },
  {
   "cell_type": "code",
   "execution_count": null,
   "metadata": {},
   "outputs": [],
   "source": []
  }
 ],
 "metadata": {
  "kernelspec": {
   "display_name": "Python 3",
   "language": "python",
   "name": "python3"
  },
  "language_info": {
   "codemirror_mode": {
    "name": "ipython",
    "version": 3
   },
   "file_extension": ".py",
   "mimetype": "text/x-python",
   "name": "python",
   "nbconvert_exporter": "python",
   "pygments_lexer": "ipython3",
   "version": "3.7.3"
  }
 },
 "nbformat": 4,
 "nbformat_minor": 2
}
